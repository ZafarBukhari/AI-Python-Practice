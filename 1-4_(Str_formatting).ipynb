{
 "cells": [
  {
   "cell_type": "markdown",
   "metadata": {},
   "source": [
    "# Practice of String formatting"
   ]
  },
  {
   "cell_type": "code",
   "execution_count": 1,
   "metadata": {},
   "outputs": [
    {
     "name": "stdout",
     "output_type": "stream",
     "text": [
      "Hello Ali your age is 35.\n",
      "Hello Ali your age is 35.\n",
      "Hello Ali your age is 35.\n",
      "Hello Ali your age is 37.\n"
     ]
    }
   ],
   "source": [
    "# Practice of String formatting\n",
    "\n",
    "name = \"Ali\"\n",
    "age = 35\n",
    "print(\"Hello \" + name + \" your age is \" + str(age)+\".\") #ugly code\n",
    "\n",
    "# Now we'll print using string formatting\n",
    "\n",
    "# python2   (no need to learn being expiring in year 2020)\n",
    "\n",
    "# python3\n",
    "print(\"Hello {} your age is {}.\".format(name, age)) # method used in python3\n",
    "\n",
    "# python3.6  (best but not available in most online editors)\n",
    "print(f\"Hello {name} your age is {age}.\") # method used in python 3.6\n",
    "\n",
    "print(f\"Hello {name} your age is {age+2}.\") # calc can also be done here"
   ]
  },
  {
   "cell_type": "markdown",
   "metadata": {},
   "source": [
    "## Practice string formatting"
   ]
  }
 ],
 "metadata": {
  "kernelspec": {
   "display_name": "Python 3",
   "language": "python",
   "name": "python3"
  },
  "language_info": {
   "codemirror_mode": {
    "name": "ipython",
    "version": 3
   },
   "file_extension": ".py",
   "mimetype": "text/x-python",
   "name": "python",
   "nbconvert_exporter": "python",
   "pygments_lexer": "ipython3",
   "version": "3.7.3"
  }
 },
 "nbformat": 4,
 "nbformat_minor": 2
}

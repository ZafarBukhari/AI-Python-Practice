{
 "cells": [
  {
   "cell_type": "markdown",
   "metadata": {},
   "source": [
    "## Define a Function to check which number out of two is greater"
   ]
  },
  {
   "cell_type": "code",
   "execution_count": 1,
   "metadata": {},
   "outputs": [
    {
     "name": "stdout",
     "output_type": "stream",
     "text": [
      "Number 2 is greater\n"
     ]
    }
   ],
   "source": [
    "# Defining a function\n",
    "\n",
    "def is_greater(num1,num2):\n",
    "    if num1 > num2:\n",
    "        return \"Number 1 is greater\"\n",
    "    return \"Number 2 is greater\"\n",
    "\n",
    "# Passing arguements to function\n",
    "\n",
    "check_number = is_greater(14,25)\n",
    "\n",
    "# printing function\n",
    "\n",
    "print(check_number)"
   ]
  },
  {
   "cell_type": "markdown",
   "metadata": {},
   "source": [
    "## Asking number from user"
   ]
  },
  {
   "cell_type": "code",
   "execution_count": 2,
   "metadata": {},
   "outputs": [
    {
     "name": "stdout",
     "output_type": "stream",
     "text": [
      "Please enter first number : 23\n",
      "Please enter second number : 10\n",
      "Number 1 is greater\n"
     ]
    }
   ],
   "source": [
    "# Defining a function\n",
    "\n",
    "def is_greater(num1,num2):\n",
    "    if num1 > num2:\n",
    "        return \"Number 1 is greater\"\n",
    "    return \"Number 2 is greater\"\n",
    "\n",
    "# Passing arguements to function\n",
    "\n",
    "number1 = int(input(\"Please enter first number : \"))\n",
    "number2 = int(input(\"Please enter second number : \"))\n",
    "\n",
    "check_number = is_greater(number1,number2)\n",
    "\n",
    "# printing function\n",
    "\n",
    "print(check_number)"
   ]
  },
  {
   "cell_type": "markdown",
   "metadata": {},
   "source": [
    "## An other way to defining a function"
   ]
  },
  {
   "cell_type": "code",
   "execution_count": 1,
   "metadata": {},
   "outputs": [
    {
     "name": "stdout",
     "output_type": "stream",
     "text": [
      "Please enter first number : 10\n",
      "Please enter second number : 20\n",
      "20 is greater.\n"
     ]
    }
   ],
   "source": [
    "# Defining a function\n",
    "\n",
    "def is_greater(a,b):\n",
    "    if a > b:\n",
    "        return a\n",
    "    return b\n",
    "\n",
    "# Passing arguements to function\n",
    "\n",
    "number1 = int(input(\"Please enter first number : \"))\n",
    "number2 = int(input(\"Please enter second number : \"))\n",
    "\n",
    "check_number = is_greater(number1,number2)\n",
    "\n",
    "# printing function\n",
    "\n",
    "print(f\"{check_number} is greater.\")"
   ]
  }
 ],
 "metadata": {
  "kernelspec": {
   "display_name": "Python 3",
   "language": "python",
   "name": "python3"
  },
  "language_info": {
   "codemirror_mode": {
    "name": "ipython",
    "version": 3
   },
   "file_extension": ".py",
   "mimetype": "text/x-python",
   "name": "python",
   "nbconvert_exporter": "python",
   "pygments_lexer": "ipython3",
   "version": "3.7.3"
  }
 },
 "nbformat": 4,
 "nbformat_minor": 2
}

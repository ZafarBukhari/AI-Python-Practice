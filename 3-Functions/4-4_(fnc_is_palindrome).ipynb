{
 "cells": [
  {
   "cell_type": "markdown",
   "metadata": {},
   "source": [
    "## Defining a Function - \"is_palindrome\""
   ]
  },
  {
   "cell_type": "code",
   "execution_count": 17,
   "metadata": {},
   "outputs": [
    {
     "name": "stdout",
     "output_type": "stream",
     "text": [
      "Please enter a word : Madam\n",
      "True\n"
     ]
    }
   ],
   "source": [
    "# defining a function \"is_palindrome\". This function will test whether by reversing the word, it is same as the original word?\n",
    "\n",
    "def is_palindrome(word):\n",
    "    word = word.lower()\n",
    "    reversed_word = word[::-1]\n",
    "    \n",
    "    if word == reversed_word:\n",
    "        return True\n",
    "    return False\n",
    "\n",
    "check_word = input(\"Please enter a word : \")\n",
    "check_word = is_palindrome(check_word)\n",
    "\n",
    "print(check_word)\n"
   ]
  },
  {
   "cell_type": "markdown",
   "metadata": {},
   "source": [
    "## Same function with slightly short code"
   ]
  },
  {
   "cell_type": "code",
   "execution_count": 31,
   "metadata": {},
   "outputs": [
    {
     "name": "stdout",
     "output_type": "stream",
     "text": [
      "Please enter a word : Madam\n",
      "True\n"
     ]
    }
   ],
   "source": [
    "# defining a function \"is_palindrome\" with slightly short code\n",
    "# here sepearately another variable 'reversed_word' is not taken\n",
    "\n",
    "def is_palindrome(word):\n",
    "    word = word.lower()\n",
    "    if word == word[::-1]:\n",
    "        return True\n",
    "    return False\n",
    "\n",
    "check_word = input(\"Please enter a word : \")\n",
    "check_word = is_palindrome(check_word)\n",
    "\n",
    "print(check_word)\n"
   ]
  },
  {
   "cell_type": "markdown",
   "metadata": {},
   "source": [
    "## Third way - Too Small Code"
   ]
  },
  {
   "cell_type": "code",
   "execution_count": 42,
   "metadata": {},
   "outputs": [
    {
     "name": "stdout",
     "output_type": "stream",
     "text": [
      "Please enter a word : Madam\n",
      "True\n"
     ]
    }
   ],
   "source": [
    "# defining a function \"is_palindrome\" with slightly short code\n",
    "# here sepearately another variable 'reversed_word' is not taken\n",
    "\n",
    "def is_palindrome(word):\n",
    "    word = word.lower()\n",
    "    return word == word[::-1]\n",
    "        \n",
    "check_word = input(\"Please enter a word : \")\n",
    "check_word = is_palindrome(check_word)\n",
    "\n",
    "print(check_word)\n"
   ]
  }
 ],
 "metadata": {
  "kernelspec": {
   "display_name": "Python 3",
   "language": "python",
   "name": "python3"
  },
  "language_info": {
   "codemirror_mode": {
    "name": "ipython",
    "version": 3
   },
   "file_extension": ".py",
   "mimetype": "text/x-python",
   "name": "python",
   "nbconvert_exporter": "python",
   "pygments_lexer": "ipython3",
   "version": "3.7.3"
  }
 },
 "nbformat": 4,
 "nbformat_minor": 2
}

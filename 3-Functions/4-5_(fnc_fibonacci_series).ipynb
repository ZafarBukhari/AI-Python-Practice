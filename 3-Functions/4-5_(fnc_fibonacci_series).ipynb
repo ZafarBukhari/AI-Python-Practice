{
 "cells": [
  {
   "cell_type": "markdown",
   "metadata": {},
   "source": [
    "## Define a Function to build a \"Fibonacci Series\""
   ]
  },
  {
   "cell_type": "code",
   "execution_count": 6,
   "metadata": {},
   "outputs": [
    {
     "name": "stdout",
     "output_type": "stream",
     "text": [
      "Please enter number upto which fibonacci series is required : 4\n",
      "0 1 1 2 None\n"
     ]
    }
   ],
   "source": [
    "# This function will ask user to input desired no upto which series will expand\n",
    "\n",
    "def fibonacci_series(n):\n",
    "    a = 0  # first number of fibonacci series\n",
    "    b = 1  # second number of fibonacci series\n",
    "    if n == 1:\n",
    "        print(a)\n",
    "    elif n == 2:\n",
    "        print(a,b, end=\" \")\n",
    "    else:\n",
    "        print(a,b, end=\" \")\n",
    "        for i in range(n-2):\n",
    "            c = a + b\n",
    "            a = b\n",
    "            b = c\n",
    "            print(b, end=\" \")\n",
    "\n",
    "# print(fibonacci_series(2))\n",
    "\n",
    "num = int(input(\"Please enter number upto which fibonacci series is required : \"))\n",
    "num = fibonacci_series(num)\n",
    "\n",
    "print(num)"
   ]
  }
 ],
 "metadata": {
  "kernelspec": {
   "display_name": "Python 3",
   "language": "python",
   "name": "python3"
  },
  "language_info": {
   "codemirror_mode": {
    "name": "ipython",
    "version": 3
   },
   "file_extension": ".py",
   "mimetype": "text/x-python",
   "name": "python",
   "nbconvert_exporter": "python",
   "pygments_lexer": "ipython3",
   "version": "3.7.3"
  }
 },
 "nbformat": 4,
 "nbformat_minor": 2
}

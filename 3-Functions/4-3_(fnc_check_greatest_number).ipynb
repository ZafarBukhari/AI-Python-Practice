{
 "cells": [
  {
   "cell_type": "markdown",
   "metadata": {},
   "source": [
    "#  Exercise - Make a Function"
   ]
  },
  {
   "cell_type": "markdown",
   "metadata": {},
   "source": [
    "## 1) Make a Function to check greatest number from given 3 numbers"
   ]
  },
  {
   "cell_type": "code",
   "execution_count": 5,
   "metadata": {},
   "outputs": [
    {
     "name": "stdout",
     "output_type": "stream",
     "text": [
      "Please enter three numbers - seperated by comma : 3,5,2\n",
      "5\n"
     ]
    }
   ],
   "source": [
    "# Define a function to check greatest number from given 3 numbers\n",
    "\n",
    "def greatest(a,b,c):\n",
    "    if a > b and a > c:\n",
    "        return a\n",
    "    elif b > a and b > c:\n",
    "        return b\n",
    "    else:\n",
    "        return c\n",
    "\n",
    "num1, num2, num3 = input(\"Please enter three numbers - seperated by comma : \").split(\",\")\n",
    "num1 = int(num1)\n",
    "num2 = int(num2)\n",
    "num3 = int(num3)\n",
    "\n",
    "result = greatest(num1,num2,num3)\n",
    "\n",
    "print(result)"
   ]
  },
  {
   "cell_type": "markdown",
   "metadata": {},
   "source": [
    "## 2) Using Function within a function"
   ]
  },
  {
   "cell_type": "code",
   "execution_count": 10,
   "metadata": {},
   "outputs": [
    {
     "name": "stdout",
     "output_type": "stream",
     "text": [
      "Please enter three numbers - seperated by comma : 5,3,8\n",
      "8\n"
     ]
    }
   ],
   "source": [
    "# Define a function to check greater number from given 2 numbers\n",
    "\n",
    "def two_numbers(a,b):\n",
    "    if a>b:\n",
    "        return a\n",
    "    return b\n",
    "\n",
    "# print(two_numbers(10,5))\n",
    "\n",
    "def three_numbers(a,b,c):\n",
    "    bigger = two_numbers(a,b)\n",
    "    return two_numbers(bigger,c)\n",
    "\n",
    "# print(three_numbers(10,40,20))\n",
    "\n",
    "num1, num2, num3 = input(\"Please enter three numbers - seperated by comma : \").split(\",\")\n",
    "num1 = int(num1)\n",
    "num2 = int(num2)\n",
    "num3 = int(num3)\n",
    "\n",
    "check_num = three_numbers(num1,num2,num3)\n",
    "print(check_num)\n",
    "    "
   ]
  }
 ],
 "metadata": {
  "kernelspec": {
   "display_name": "Python 3",
   "language": "python",
   "name": "python3"
  },
  "language_info": {
   "codemirror_mode": {
    "name": "ipython",
    "version": 3
   },
   "file_extension": ".py",
   "mimetype": "text/x-python",
   "name": "python",
   "nbconvert_exporter": "python",
   "pygments_lexer": "ipython3",
   "version": "3.7.3"
  }
 },
 "nbformat": 4,
 "nbformat_minor": 2
}

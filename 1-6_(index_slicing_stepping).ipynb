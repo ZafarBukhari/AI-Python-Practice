{
 "cells": [
  {
   "cell_type": "markdown",
   "metadata": {},
   "source": [
    "# String indexing"
   ]
  },
  {
   "cell_type": "code",
   "execution_count": 1,
   "metadata": {},
   "outputs": [
    {
     "name": "stdout",
     "output_type": "stream",
     "text": [
      "n\n"
     ]
    }
   ],
   "source": [
    "# string indexing\n",
    "language = \"python\"\n",
    "\n",
    "# positions (index numbers)\n",
    "\n",
    "# p =   0, -6\n",
    "# y =   1, -5\n",
    "# t =   2, -4\n",
    "# h =   3, -3\n",
    "# o =   4, -2\n",
    "# n =   5, -1\n",
    "\n",
    "print(language[-1])"
   ]
  },
  {
   "cell_type": "markdown",
   "metadata": {},
   "source": [
    "## slicing / selecting sub sequence"
   ]
  },
  {
   "cell_type": "code",
   "execution_count": 3,
   "metadata": {},
   "outputs": [
    {
     "name": "stdout",
     "output_type": "stream",
     "text": [
      "yt\n",
      "pytho\n"
     ]
    }
   ],
   "source": [
    "# syntax = [start arguement : stop arguement - 1]\n",
    "\n",
    "lang = \"python\"\n",
    "\n",
    "print(lang[1:3]) # this will start from 1st index number and stop at index-3 minus 1 i.e. 2nd index\n",
    "\n",
    "print(lang[:5]) # this will start at index 0 and stop at last index i.e. 5 minus 1 which is index 4"
   ]
  },
  {
   "cell_type": "markdown",
   "metadata": {},
   "source": [
    "## step arguement in index numbers"
   ]
  },
  {
   "cell_type": "code",
   "execution_count": 7,
   "metadata": {},
   "outputs": [
    {
     "name": "stdout",
     "output_type": "stream",
     "text": [
      "pto\n",
      "nohtyp\n"
     ]
    }
   ],
   "source": [
    "language = \"python\"\n",
    "\n",
    "# this will start at index 0 and go till index 5 with step of 2 mean index 0=p, index 2 = t, index 4 = o\n",
    "print(language[0:5:2]) \n",
    "\n",
    "# this will start from last index i.e. -1 = n, go till last index from reverse i.e index 6 which is letter p, and step @ -1\n",
    "print(language[-1::-1])"
   ]
  },
  {
   "cell_type": "markdown",
   "metadata": {},
   "source": [
    "### Practice concepts of index, slicing and step arguements in index numbers"
   ]
  }
 ],
 "metadata": {
  "kernelspec": {
   "display_name": "Python 3",
   "language": "python",
   "name": "python3"
  },
  "language_info": {
   "codemirror_mode": {
    "name": "ipython",
    "version": 3
   },
   "file_extension": ".py",
   "mimetype": "text/x-python",
   "name": "python",
   "nbconvert_exporter": "python",
   "pygments_lexer": "ipython3",
   "version": "3.7.3"
  }
 },
 "nbformat": 4,
 "nbformat_minor": 2
}

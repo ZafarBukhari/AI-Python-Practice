{
 "cells": [
  {
   "cell_type": "markdown",
   "metadata": {},
   "source": [
    "# Using if, elif & else in decision statements"
   ]
  },
  {
   "cell_type": "code",
   "execution_count": 8,
   "metadata": {},
   "outputs": [
    {
     "name": "stdout",
     "output_type": "stream",
     "text": [
      "Please enter your age: 35\n",
      "Ticket price : 250\n"
     ]
    }
   ],
   "source": [
    "# This program will solve the problem using 'if, elif, else\" statements\n",
    "age = input(\"Please enter your age: \")\n",
    "age = int(age)\n",
    "\n",
    "if age<=0:\n",
    "    print(\"Please insert age in correct order.\")    \n",
    "elif 0<age<=3:\n",
    "    print(\"Ticket price : Free\")\n",
    "elif 3<age<=10:\n",
    "    print(\"Ticket price : 150\")\n",
    "elif 10<age<=60:\n",
    "    print(\"Ticket price : 250\")\n",
    "elif 60<age<=70:\n",
    "    print(\"Ticket price : 200\")\n",
    "else:\n",
    "    print(\"Please offer prayers...\\U0001F923\")"
   ]
  }
 ],
 "metadata": {
  "kernelspec": {
   "display_name": "Python 3",
   "language": "python",
   "name": "python3"
  },
  "language_info": {
   "codemirror_mode": {
    "name": "ipython",
    "version": 3
   },
   "file_extension": ".py",
   "mimetype": "text/x-python",
   "name": "python",
   "nbconvert_exporter": "python",
   "pygments_lexer": "ipython3",
   "version": "3.7.3"
  }
 },
 "nbformat": 4,
 "nbformat_minor": 2
}

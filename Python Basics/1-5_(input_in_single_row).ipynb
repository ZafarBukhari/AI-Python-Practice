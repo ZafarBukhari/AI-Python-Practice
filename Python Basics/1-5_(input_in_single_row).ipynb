{
 "cells": [
  {
   "cell_type": "markdown",
   "metadata": {},
   "source": [
    "# This will take multi-variables' input in single line"
   ]
  },
  {
   "cell_type": "code",
   "execution_count": 4,
   "metadata": {},
   "outputs": [
    {
     "name": "stdout",
     "output_type": "stream",
     "text": [
      "Enter your name and age \"Separated with space\": Ammar 7\n",
      "Ammar\n",
      "7\n",
      "Enter your name and age \"Separated with Comma\": Hassan,9\n",
      "Hassan\n",
      "9\n"
     ]
    }
   ],
   "source": [
    "# This will take two inputs with a single space\n",
    "\n",
    "# This will take two inputs with single space\n",
    "name, age = input(\"Enter your name and age \\\"Separated with space\\\": \").split()\n",
    "print(name)\n",
    "print(age)\n",
    "\n",
    "# This will take two inputs with , separator and will generatre error on space\n",
    "name, age = input(\"Enter your name and age \\\"Separated with Comma\\\": \").split(\",\")\n",
    "print(name)\n",
    "print(age)"
   ]
  },
  {
   "cell_type": "markdown",
   "metadata": {},
   "source": [
    "### Practice taking input against more than one variables with user defined seperator"
   ]
  }
 ],
 "metadata": {
  "kernelspec": {
   "display_name": "Python 3",
   "language": "python",
   "name": "python3"
  },
  "language_info": {
   "codemirror_mode": {
    "name": "ipython",
    "version": 3
   },
   "file_extension": ".py",
   "mimetype": "text/x-python",
   "name": "python",
   "nbconvert_exporter": "python",
   "pygments_lexer": "ipython3",
   "version": "3.7.3"
  }
 },
 "nbformat": 4,
 "nbformat_minor": 2
}

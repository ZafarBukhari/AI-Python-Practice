{
 "cells": [
  {
   "cell_type": "markdown",
   "metadata": {},
   "source": [
    "# Chapter1 Exercise1 (Using escape sequence)"
   ]
  },
  {
   "cell_type": "code",
   "execution_count": 2,
   "metadata": {},
   "outputs": [
    {
     "name": "stdout",
     "output_type": "stream",
     "text": [
      "This is \\\\ double backslash.\n",
      "These are /\\/\\/\\/\\/\\ mountains.\n",
      "Hi is\tawsome.\n",
      "\\\" \\n \\t  \\'\n",
      "Name\t:\tZafar Abbas\n",
      "Program\t:\tAI Q1\n",
      "Session\t:\tMorning\n",
      "Roll No\t:\tPIAIC51214\n"
     ]
    }
   ],
   "source": [
    "# This line will print \\\\ double backslash\n",
    "# This is escape sequence '\\'\n",
    "print(\"This is \\\\\\\\ double backslash.\")\n",
    "\n",
    "# This will print /\\/\\/\\/\\/\\ mountains\n",
    "print(\"These are /\\\\/\\\\/\\\\/\\\\/\\\\ mountains.\")\n",
    "\n",
    "# This line of code will leave blank space using \\t \n",
    "print(\"Hi is\\tawsome.\")\n",
    "\n",
    "# This line of code will print escape sequences as a code\n",
    "print(\"\\\\\\\" \\\\n \\\\t  \\\\'\")\n",
    "\n",
    "print(\"Name\\t:\\tZafar Abbas\\nProgram\\t:\\tAI Q1\\nSession\\t:\\tMorning\\nRoll No\\t:\\tPIAIC51214\")"
   ]
  },
  {
   "cell_type": "markdown",
   "metadata": {},
   "source": [
    "# Chapter No.1 Exercise No.2 (Input in single line using comma seperator)"
   ]
  },
  {
   "cell_type": "code",
   "execution_count": 4,
   "metadata": {},
   "outputs": [
    {
     "name": "stdout",
     "output_type": "stream",
     "text": [
      "Enter number1, number2 & number3: 25,15,30\n",
      "Average of three numbers is: 23.333333333333332\n"
     ]
    }
   ],
   "source": [
    "num1, num2, num3 = input(\"Enter number1, number2 & number3: \").split(\",\")\n",
    "\n",
    "print(f\"Average of three numbers is: {(int(num1) + int(num2) + int(num3))/3}\")"
   ]
  },
  {
   "cell_type": "markdown",
   "metadata": {},
   "source": [
    "# Chapter-1 Exercise-3 (Print string in reverse order)"
   ]
  },
  {
   "cell_type": "code",
   "execution_count": 3,
   "metadata": {},
   "outputs": [
    {
     "name": "stdout",
     "output_type": "stream",
     "text": [
      "Enter your name: Zafar Abbas\n",
      "Your reverse name is: sabbA rafaZ\n"
     ]
    }
   ],
   "source": [
    "name = input(\"Enter your name: \")\n",
    "print(f\"Your reverse name is: {name [-1::-1]}\")"
   ]
  },
  {
   "cell_type": "markdown",
   "metadata": {},
   "source": [
    "## Solve these exercises at your own....!!!"
   ]
  }
 ],
 "metadata": {
  "kernelspec": {
   "display_name": "Python 3",
   "language": "python",
   "name": "python3"
  },
  "language_info": {
   "codemirror_mode": {
    "name": "ipython",
    "version": 3
   },
   "file_extension": ".py",
   "mimetype": "text/x-python",
   "name": "python",
   "nbconvert_exporter": "python",
   "pygments_lexer": "ipython3",
   "version": "3.7.3"
  }
 },
 "nbformat": 4,
 "nbformat_minor": 2
}

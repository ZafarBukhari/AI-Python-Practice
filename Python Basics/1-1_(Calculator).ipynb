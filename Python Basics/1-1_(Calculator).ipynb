{
 "cells": [
  {
   "cell_type": "markdown",
   "metadata": {},
   "source": [
    "## How to display Numeric Calculations"
   ]
  },
  {
   "cell_type": "code",
   "execution_count": 1,
   "metadata": {},
   "outputs": [
    {
     "name": "stdout",
     "output_type": "stream",
     "text": [
      "5\n",
      "14\n",
      "0.5\n",
      "2.0\n",
      "2\n",
      "1\n",
      "8\n",
      "1.4142135623730951\n",
      "1.41\n",
      "512\n",
      "512\n"
     ]
    }
   ],
   "source": [
    "# This is a practice of calculations in python\n",
    "print(2+3)\n",
    "print(2+3*4)\n",
    "print(2/4)  # this will perform floating point division\n",
    "print(4/2)  # this will perform floating point division\n",
    "print(4//2)  # this will perform integer division\n",
    "print(3%2)  # this will calculate remainder of the division\n",
    "print(2**3) # this will perform exponent of 2 raiser to power 3\n",
    "print(2**0.5)   # this will calculate square root of 2\n",
    "print(round(2**0.5,2))  # this will perform above task again upto rounding of 2 decimal points\n",
    "print(2**3**2)  # associative precedence of exponent is \"right to left\" so it will make exponent = 9\n",
    "print(2**9)     # this will generate same as above result"
   ]
  }
 ],
 "metadata": {
  "kernelspec": {
   "display_name": "Python 3",
   "language": "python",
   "name": "python3"
  },
  "language_info": {
   "codemirror_mode": {
    "name": "ipython",
    "version": 3
   },
   "file_extension": ".py",
   "mimetype": "text/x-python",
   "name": "python",
   "nbconvert_exporter": "python",
   "pygments_lexer": "ipython3",
   "version": "3.7.3"
  }
 },
 "nbformat": 4,
 "nbformat_minor": 2
}

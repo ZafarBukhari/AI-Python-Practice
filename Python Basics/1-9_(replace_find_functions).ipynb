{
 "cells": [
  {
   "cell_type": "markdown",
   "metadata": {},
   "source": [
    "# Using replace and find functions"
   ]
  },
  {
   "cell_type": "code",
   "execution_count": 2,
   "metadata": {},
   "outputs": [
    {
     "name": "stdout",
     "output_type": "stream",
     "text": [
      "She was beautiful and she is a good singer.\n",
      "25\n"
     ]
    }
   ],
   "source": [
    "# replace() method\n",
    "# find() method\n",
    "\n",
    "string = \"She is beautiful and she is a good singer.\"\n",
    "print(string.replace(\"is\", \"was\", 1)) # this will replace first 'is' with 'was'\n",
    "\n",
    "is_pos1 = string.find(\"is\") # this variable find position of 1st 'is'\n",
    "\n",
    "is_pos2 = string.find(\"is\", is_pos1 + 1) # this finds position of 'is' after '1st is'\n",
    "\n",
    "# this displays position of '2nd is' i.e at position 25\n",
    "print(is_pos2)"
   ]
  },
  {
   "cell_type": "markdown",
   "metadata": {},
   "source": [
    "### Practice replace & find functions for complex problem solutions"
   ]
  }
 ],
 "metadata": {
  "kernelspec": {
   "display_name": "Python 3",
   "language": "python",
   "name": "python3"
  },
  "language_info": {
   "codemirror_mode": {
    "name": "ipython",
    "version": 3
   },
   "file_extension": ".py",
   "mimetype": "text/x-python",
   "name": "python",
   "nbconvert_exporter": "python",
   "pygments_lexer": "ipython3",
   "version": "3.7.3"
  }
 },
 "nbformat": 4,
 "nbformat_minor": 2
}

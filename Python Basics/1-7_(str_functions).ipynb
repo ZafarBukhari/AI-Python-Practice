{
 "cells": [
  {
   "cell_type": "markdown",
   "metadata": {},
   "source": [
    "# Practice functions for string manipulation"
   ]
  },
  {
   "cell_type": "code",
   "execution_count": 1,
   "metadata": {},
   "outputs": [
    {
     "name": "stdout",
     "output_type": "stream",
     "text": [
      "11\n",
      "zafar abbas\n",
      "ZAFAR ABBAS\n",
      "Zafar Abbas\n",
      "3\n",
      "4\n"
     ]
    }
   ],
   "source": [
    "# Practice functions for string manipulation\n",
    "\n",
    "name = \"Zafar Abbas\"\n",
    "\n",
    "# len() function\n",
    "print(len(name))\n",
    "\n",
    "# lower() method\n",
    "print(name.lower())\n",
    "\n",
    "# upper() method\n",
    "print(name.upper())\n",
    "\n",
    "# title() method\n",
    "print(name.title())\n",
    "\n",
    "# count() method\n",
    "print(name.count(\"a\")) # this will count letter 'a' used in string\n",
    "\n",
    "# this function will first convert the whole string in lower case letters and then count letter 'a'\n",
    "print(name.lower().count(\"a\")) "
   ]
  },
  {
   "cell_type": "markdown",
   "metadata": {},
   "source": [
    "# P"
   ]
  }
 ],
 "metadata": {
  "kernelspec": {
   "display_name": "Python 3",
   "language": "python",
   "name": "python3"
  },
  "language_info": {
   "codemirror_mode": {
    "name": "ipython",
    "version": 3
   },
   "file_extension": ".py",
   "mimetype": "text/x-python",
   "name": "python",
   "nbconvert_exporter": "python",
   "pygments_lexer": "ipython3",
   "version": "3.7.3"
  }
 },
 "nbformat": 4,
 "nbformat_minor": 2
}

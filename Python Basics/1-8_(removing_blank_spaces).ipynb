{
 "cells": [
  {
   "cell_type": "markdown",
   "metadata": {},
   "source": [
    "#  How to remove blank spaces from string?"
   ]
  },
  {
   "cell_type": "code",
   "execution_count": 1,
   "metadata": {},
   "outputs": [
    {
     "name": "stdout",
     "output_type": "stream",
     "text": [
      "   Za  f    ar   ...........\n",
      "Za  f    ar   ...........\n",
      "   Za  f    ar...........\n",
      "Za  f    ar...........\n",
      "Zafar...........\n"
     ]
    }
   ],
   "source": [
    "name = \"   Za  f    ar   \"\n",
    "dots = \"...........\"\n",
    "\n",
    "# lstrip() method. It removes blank spaces from left end of string\n",
    "print(name + dots)\n",
    "\n",
    "print(name.lstrip() + dots)\n",
    "\n",
    "# rstrip() method. It removes blank spaces from right end of string\n",
    "print(name.rstrip() + dots)\n",
    "\n",
    "# strip() method. It removes blank spaces from both ends of string but not from within the string letters or words\n",
    "print(name.strip() + dots)\n",
    "\n",
    "print(name.replace(\" \",\"\") + dots)"
   ]
  },
  {
   "cell_type": "markdown",
   "metadata": {},
   "source": [
    "### Practice removing blank spaces from strings...!!!"
   ]
  }
 ],
 "metadata": {
  "kernelspec": {
   "display_name": "Python 3",
   "language": "python",
   "name": "python3"
  },
  "language_info": {
   "codemirror_mode": {
    "name": "ipython",
    "version": 3
   },
   "file_extension": ".py",
   "mimetype": "text/x-python",
   "name": "python",
   "nbconvert_exporter": "python",
   "pygments_lexer": "ipython3",
   "version": "3.7.3"
  }
 },
 "nbformat": 4,
 "nbformat_minor": 2
}

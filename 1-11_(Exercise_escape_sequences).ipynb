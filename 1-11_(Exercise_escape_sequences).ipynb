{
 "cells": [
  {
   "cell_type": "markdown",
   "metadata": {},
   "source": [
    "# This is Chapter1 Exercise1"
   ]
  },
  {
   "cell_type": "code",
   "execution_count": 2,
   "metadata": {},
   "outputs": [
    {
     "name": "stdout",
     "output_type": "stream",
     "text": [
      "This is \\\\ double backslash.\n",
      "These are /\\/\\/\\/\\/\\ mountains.\n",
      "Hi is\tawsome.\n",
      "\\\" \\n \\t  \\'\n",
      "Name\t:\tZafar Abbas\n",
      "Program\t:\tAI Q1\n",
      "Session\t:\tMorning\n",
      "Roll No\t:\tPIAIC51214\n"
     ]
    }
   ],
   "source": [
    "# This line will print \\\\ double backslash\n",
    "# This is escape sequence '\\'\n",
    "print(\"This is \\\\\\\\ double backslash.\")\n",
    "\n",
    "# This will print /\\/\\/\\/\\/\\ mountains\n",
    "print(\"These are /\\\\/\\\\/\\\\/\\\\/\\\\ mountains.\")\n",
    "\n",
    "# This line of code will leave blank space using \\t \n",
    "print(\"Hi is\\tawsome.\")\n",
    "\n",
    "# This line of code will print escape sequences as a code\n",
    "print(\"\\\\\\\" \\\\n \\\\t  \\\\'\")\n",
    "\n",
    "print(\"Name\\t:\\tZafar Abbas\\nProgram\\t:\\tAI Q1\\nSession\\t:\\tMorning\\nRoll No\\t:\\tPIAIC51214\")"
   ]
  },
  {
   "cell_type": "markdown",
   "metadata": {},
   "source": [
    "### Solve this exercise at your own....!!!"
   ]
  }
 ],
 "metadata": {
  "kernelspec": {
   "display_name": "Python 3",
   "language": "python",
   "name": "python3"
  },
  "language_info": {
   "codemirror_mode": {
    "name": "ipython",
    "version": 3
   },
   "file_extension": ".py",
   "mimetype": "text/x-python",
   "name": "python",
   "nbconvert_exporter": "python",
   "pygments_lexer": "ipython3",
   "version": "3.7.3"
  }
 },
 "nbformat": 4,
 "nbformat_minor": 2
}

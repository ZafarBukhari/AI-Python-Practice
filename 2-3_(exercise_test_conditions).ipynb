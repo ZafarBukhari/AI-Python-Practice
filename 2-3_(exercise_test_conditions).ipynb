{
 "cells": [
  {
   "cell_type": "markdown",
   "metadata": {},
   "source": [
    "<center><u><h1>Exercise - Using more than one Test Conditions</h1></u></center>"
   ]
  },
  {
   "cell_type": "markdown",
   "metadata": {},
   "source": [
    "## Test condition with specific starting character in name:"
   ]
  },
  {
   "cell_type": "code",
   "execution_count": 11,
   "metadata": {},
   "outputs": [
    {
     "name": "stdout",
     "output_type": "stream",
     "text": [
      "Please enter your name: Abbas\n",
      "Please enter your age: 16\n",
      "Sorry, you cannot watch this movie. Please try other.\n"
     ]
    }
   ],
   "source": [
    "# EXERCISE - HOW TO VERIFY WATCH ELIGIBLITY\n",
    "# take user's input ---- name and age\n",
    "# if user's name starts with 'a' or 'A' and his/her age is above 14 years;\n",
    "# then display message that he/she may watch the movie\n",
    "# else display message that he/she may not watch the movie and may try other\n",
    "\n",
    "name = input(\"Please enter your name: \")\n",
    "age = int(input(\"Please enter your age: \"))\n",
    "\n",
    "# using if statement\n",
    "if name[0]=='a' and age>=14:\n",
    "    print(\"Congratulations, you can watch this movie.\")\n",
    "else:\n",
    "    print(\"Sorry, you cannot watch this movie. Please try other.\")"
   ]
  },
  {
   "cell_type": "markdown",
   "metadata": {},
   "source": [
    "## Testing condition with either 'small' or 'CAPITAL' starting letter:"
   ]
  },
  {
   "cell_type": "code",
   "execution_count": 10,
   "metadata": {},
   "outputs": [
    {
     "name": "stdout",
     "output_type": "stream",
     "text": [
      "Please enter your name: Abbas\n",
      "Please enter your age: 16\n",
      "Congratulations, you can watch this movie.\n"
     ]
    }
   ],
   "source": [
    "# You noticed that starting letter of name variable was 'a' but still 'ELSE' condition displayed\n",
    "# it's because user's input was in capital letter i.e. 'A', therefore test condition name[0]=='a' doesn't fulfill\n",
    "# and the program executed 'ELSE' condition that he/she may not watch the movie\n",
    "# in this situation, first name vairiable is converted into lower case using 'lower' function\n",
    "\n",
    "name = input(\"Please enter your name: \")\n",
    "# this functions is used to convert the capital 'A' into small 'a'\n",
    "name = name.lower()\n",
    "age = int(input(\"Please enter your age: \"))\n",
    "\n",
    "# using if statement\n",
    "if name[0]=='a' and age>=14:\n",
    "    print(\"Congratulations, you can watch this movie.\")\n",
    "else:\n",
    "    print(\"Sorry, you cannot watch this movie. Please try other.\")"
   ]
  }
 ],
 "metadata": {
  "kernelspec": {
   "display_name": "Python 3",
   "language": "python",
   "name": "python3"
  },
  "language_info": {
   "codemirror_mode": {
    "name": "ipython",
    "version": 3
   },
   "file_extension": ".py",
   "mimetype": "text/x-python",
   "name": "python",
   "nbconvert_exporter": "python",
   "pygments_lexer": "ipython3",
   "version": "3.7.3"
  }
 },
 "nbformat": 4,
 "nbformat_minor": 2
}

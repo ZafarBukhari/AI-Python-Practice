{
 "cells": [
  {
   "cell_type": "markdown",
   "metadata": {},
   "source": [
    "## Functions Introduction"
   ]
  },
  {
   "cell_type": "code",
   "execution_count": 1,
   "metadata": {},
   "outputs": [
    {
     "name": "stdout",
     "output_type": "stream",
     "text": [
      "Enter first number : 45\n",
      "Enter second number : 55\n",
      "100\n"
     ]
    }
   ],
   "source": [
    "# defining functions\n",
    "\n",
    "def add_two(a,b):\n",
    "    return a + b\n",
    "\n",
    "first_number = int(input(\"Enter first number : \"))\n",
    "second_number = int(input(\"Enter second number : \"))\n",
    "\n",
    "total = add_two(first_number,second_number)\n",
    "print(total)"
   ]
  },
  {
   "cell_type": "code",
   "execution_count": 5,
   "metadata": {},
   "outputs": [
    {
     "name": "stdout",
     "output_type": "stream",
     "text": [
      "Enter first number : 5\n",
      "Enter second number : 3\n",
      "15\n"
     ]
    }
   ],
   "source": [
    "# using same function for performing different mathematical operations\n",
    "\n",
    "def add_two(a,b):\n",
    "    return a * b\n",
    "\n",
    "first_number = int(input(\"Enter first number : \"))\n",
    "second_number = int(input(\"Enter second number : \"))\n",
    "\n",
    "total = add_two(first_number,second_number)\n",
    "print(total)"
   ]
  },
  {
   "cell_type": "code",
   "execution_count": 4,
   "metadata": {},
   "outputs": [
    {
     "name": "stdout",
     "output_type": "stream",
     "text": [
      "Enter first name : Zafar\n",
      "Enter last name : Abbas\n",
      "ZafarAbbas\n"
     ]
    }
   ],
   "source": [
    "# using same function with just removing 'int' type conversion in input statement\n",
    "\n",
    "def add_two(a,b):\n",
    "    return a + b\n",
    "\n",
    "first_name = input(\"Enter first name : \")\n",
    "last_name = input(\"Enter last name : \")\n",
    "\n",
    "name = add_two(first_name,last_name)\n",
    "print(name)"
   ]
  }
 ],
 "metadata": {
  "kernelspec": {
   "display_name": "Python 3",
   "language": "python",
   "name": "python3"
  },
  "language_info": {
   "codemirror_mode": {
    "name": "ipython",
    "version": 3
   },
   "file_extension": ".py",
   "mimetype": "text/x-python",
   "name": "python",
   "nbconvert_exporter": "python",
   "pygments_lexer": "ipython3",
   "version": "3.7.3"
  }
 },
 "nbformat": 4,
 "nbformat_minor": 2
}

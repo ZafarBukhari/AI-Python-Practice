{
 "cells": [
  {
   "cell_type": "markdown",
   "metadata": {},
   "source": [
    "## Making a guess number game"
   ]
  },
  {
   "cell_type": "code",
   "execution_count": 3,
   "metadata": {},
   "outputs": [
    {
     "name": "stdout",
     "output_type": "stream",
     "text": [
      "Please enter a number from 1 to 100: 23\n",
      "You guessed too low.\n",
      "Please enter a number from 1 to 100: 87\n",
      "You guessed too high.\n",
      "Please enter a number from 1 to 100: 56\n",
      "You guessed too high.\n",
      "Please enter a number from 1 to 100: 34\n",
      "You guessed too low.\n",
      "Please enter a number from 1 to 100: 43\n",
      "You won, and you guessed this number in 5 time(s).\n"
     ]
    }
   ],
   "source": [
    "# this program will take a number from user as input and guess it till right answer\n",
    "\n",
    "winning_number = 43\n",
    "guess = 1\n",
    "number = int(input(\"Please enter a number from 1 to 100: \"))\n",
    "game_over = False\n",
    "\n",
    "while not game_over:\n",
    "    if number == winning_number:\n",
    "        print(f\"You won, and you guessed this number in {guess} time(s).\")\n",
    "        game_over = True\n",
    "    else:\n",
    "        if number > winning_number:\n",
    "            print(\"You guessed too high.\")\n",
    "            guess += 1\n",
    "            number = int(input(\"Please enter a number from 1 to 100: \"))\n",
    "        else:\n",
    "            print(\"You guessed too low.\")\n",
    "            guess += 1\n",
    "            number = int(input(\"Please enter a number from 1 to 100: \"))\n",
    "        "
   ]
  },
  {
   "cell_type": "code",
   "execution_count": 5,
   "metadata": {},
   "outputs": [
    {
     "name": "stdout",
     "output_type": "stream",
     "text": [
      "Please enter a number from 1 to 100: 34\n",
      "You guessed too low.\n",
      "Please enter a number from 1 to 100: 59\n",
      "You guessed too high.\n",
      "Please enter a number from 1 to 100: 40\n",
      "You guessed too low.\n",
      "Please enter a number from 1 to 100: 45\n",
      "You guessed too low.\n",
      "Please enter a number from 1 to 100: 50\n",
      "You guessed too low.\n",
      "Please enter a number from 1 to 100: 55\n",
      "You guessed too low.\n",
      "Please enter a number from 1 to 100: 56\n",
      "You won, and you guessed this number in 7 time(s).\n"
     ]
    }
   ],
   "source": [
    "# this program will take a number from user as input and guess it till right answer\n",
    "\n",
    "import random         # this module is used to auto-generate random numbers from 1 to 100\n",
    "winning_number = random.randint(1,100)\n",
    "guess = 1\n",
    "number = int(input(\"Please enter a number from 1 to 100: \"))\n",
    "game_over = False\n",
    "\n",
    "while not game_over:\n",
    "    if number == winning_number:\n",
    "        print(f\"You won, and you guessed this number in {guess} time(s).\")\n",
    "        game_over = True\n",
    "    else:\n",
    "        if number > winning_number:\n",
    "            print(\"You guessed too high.\")\n",
    "            guess += 1\n",
    "            number = int(input(\"Please enter a number from 1 to 100: \"))\n",
    "        else:\n",
    "            print(\"You guessed too low.\")\n",
    "            guess += 1\n",
    "            number = int(input(\"Please enter a number from 1 to 100: \"))"
   ]
  }
 ],
 "metadata": {
  "kernelspec": {
   "display_name": "Python 3",
   "language": "python",
   "name": "python3"
  },
  "language_info": {
   "codemirror_mode": {
    "name": "ipython",
    "version": 3
   },
   "file_extension": ".py",
   "mimetype": "text/x-python",
   "name": "python",
   "nbconvert_exporter": "python",
   "pygments_lexer": "ipython3",
   "version": "3.7.3"
  }
 },
 "nbformat": 4,
 "nbformat_minor": 2
}

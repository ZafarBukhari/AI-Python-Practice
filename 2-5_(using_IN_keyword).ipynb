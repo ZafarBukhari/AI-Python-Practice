{
 "cells": [
  {
   "cell_type": "markdown",
   "metadata": {},
   "source": [
    "# Using IN keyword in if statements"
   ]
  },
  {
   "cell_type": "code",
   "execution_count": 10,
   "metadata": {},
   "outputs": [
    {
     "name": "stdout",
     "output_type": "stream",
     "text": [
      "Please enter your name : Zafar\n",
      "Your name doesn't contain letter 's'.\n"
     ]
    }
   ],
   "source": [
    "# This program will check the 'CONTAINS' condition using 'IN' keyword\n",
    "name = input(\"Please enter your name : \")\n",
    "\n",
    "if 's' in name or 'S' in name:\n",
    "    print(\"Your name contains letter 's'.\")\n",
    "else:\n",
    "    print(\"Your name doesn't contain letter 's'.\")"
   ]
  },
  {
   "cell_type": "markdown",
   "metadata": {},
   "source": [
    "## More interactive program"
   ]
  },
  {
   "cell_type": "code",
   "execution_count": 16,
   "metadata": {},
   "outputs": [
    {
     "name": "stdout",
     "output_type": "stream",
     "text": [
      "Please enter your name : zafar\n",
      "Please enter your search letter : Z\n",
      "Your name 'Zafar' contains letter z.\n"
     ]
    }
   ],
   "source": [
    "# This program will check the 'CONTAINS' condition using 'IN' keyword in more interactive and user friendly way\n",
    "name = input(\"Please enter your name : \")\n",
    "search_letter = input(\"Please enter your search letter : \")\n",
    "search_letter = search_letter.lower()\n",
    "\n",
    "\n",
    "if search_letter in name:\n",
    "    print(f\"Your name '{name.title()}' contains letter {search_letter}.\")\n",
    "else:\n",
    "    print(f\"Your name '{name.title()}' doesn't contain letter {search_letter}.\")"
   ]
  }
 ],
 "metadata": {
  "kernelspec": {
   "display_name": "Python 3",
   "language": "python",
   "name": "python3"
  },
  "language_info": {
   "codemirror_mode": {
    "name": "ipython",
    "version": 3
   },
   "file_extension": ".py",
   "mimetype": "text/x-python",
   "name": "python",
   "nbconvert_exporter": "python",
   "pygments_lexer": "ipython3",
   "version": "3.7.3"
  }
 },
 "nbformat": 4,
 "nbformat_minor": 2
}

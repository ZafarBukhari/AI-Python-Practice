{
 "cells": [
  {
   "cell_type": "markdown",
   "metadata": {},
   "source": [
    "# Using While Loop"
   ]
  },
  {
   "cell_type": "code",
   "execution_count": 3,
   "metadata": {},
   "outputs": [
    {
     "name": "stdout",
     "output_type": "stream",
     "text": [
      "1.Hello World\n",
      "2.Hello World\n",
      "3.Hello World\n",
      "4.Hello World\n",
      "5.Hello World\n",
      "6.Hello World\n",
      "7.Hello World\n",
      "8.Hello World\n",
      "9.Hello World\n",
      "10.Hello World\n"
     ]
    }
   ],
   "source": [
    "# This program will print desired string iteratively\n",
    "str1 = \"Hello World\"\n",
    "i = 1\n",
    "\n",
    "while i<=10: # this will print string \"Hello World\" upto 10 times until variable 'i' reaches value = 11\n",
    "    print(f\"{i}.{str1}\")\n",
    "    i = i + 1  # this increments variable 'i' upon each iteration"
   ]
  },
  {
   "cell_type": "code",
   "execution_count": 11,
   "metadata": {},
   "outputs": [
    {
     "name": "stdout",
     "output_type": "stream",
     "text": [
      "1\n",
      "3\n",
      "6\n",
      "10\n",
      "15\n",
      "21\n",
      "28\n",
      "36\n",
      "45\n",
      "55\n"
     ]
    }
   ],
   "source": [
    "# this program will add upto 10 numbers upon each iteration\n",
    "total = 0\n",
    "i = 1\n",
    "\n",
    "while i<=10:\n",
    "    total += i\n",
    "    i += 1\n",
    "    print(total)"
   ]
  },
  {
   "cell_type": "markdown",
   "metadata": {},
   "source": [
    "# Using while-loop by taking user's input"
   ]
  },
  {
   "cell_type": "code",
   "execution_count": 3,
   "metadata": {},
   "outputs": [
    {
     "name": "stdout",
     "output_type": "stream",
     "text": [
      "Please enter any number: 5\n",
      "1\n",
      "3\n",
      "6\n",
      "10\n",
      "15\n"
     ]
    }
   ],
   "source": [
    "# This program will take take any number from user and will add upto that times iteratively\n",
    "user_number = input(\"Please enter any number: \")\n",
    "user_number = int(user_number)\n",
    "\n",
    "total = 0\n",
    "i = 1\n",
    "\n",
    "while i<=user_number:\n",
    "    total += i\n",
    "    i += 1\n",
    "    print(total)"
   ]
  }
 ],
 "metadata": {
  "kernelspec": {
   "display_name": "Python 3",
   "language": "python",
   "name": "python3"
  },
  "language_info": {
   "codemirror_mode": {
    "name": "ipython",
    "version": 3
   },
   "file_extension": ".py",
   "mimetype": "text/x-python",
   "name": "python",
   "nbconvert_exporter": "python",
   "pygments_lexer": "ipython3",
   "version": "3.7.3"
  }
 },
 "nbformat": 4,
 "nbformat_minor": 2
}

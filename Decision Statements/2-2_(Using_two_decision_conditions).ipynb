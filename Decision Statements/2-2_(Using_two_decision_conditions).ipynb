{
 "cells": [
  {
   "cell_type": "markdown",
   "metadata": {},
   "source": [
    "# How to check two conditions in decision statements"
   ]
  },
  {
   "cell_type": "markdown",
   "metadata": {},
   "source": [
    "## Testing two conditions with 'AND' logical operator"
   ]
  },
  {
   "cell_type": "code",
   "execution_count": 13,
   "metadata": {},
   "outputs": [
    {
     "name": "stdout",
     "output_type": "stream",
     "text": [
      "Please enter your age: 16\n",
      "Congratulations, you can play the game.\n"
     ]
    }
   ],
   "source": [
    "# This program will focus, how to use two conditions (compound conditions) in decision statements (if-else statements)\n",
    "name = 'abc'\n",
    "age = int(input(\"Please enter your age: \"))\n",
    "\n",
    "# here we'll test two conditions with 'AND' logical operator\n",
    "if name=='abc' and age>=14:\n",
    "    print(\"Congratulations, you can play the game.\")\n",
    "else:\n",
    "    print(\"Sorry, you cannot play this game. Try another one, please...!!!\")\n",
    "    \n",
    "# we found that while using 'AND' in test condition, it is only 'TRUE' if both conditions are 'TRUE' \n",
    "# Otherwise, condition will falseb"
   ]
  },
  {
   "cell_type": "markdown",
   "metadata": {},
   "source": [
    "## Testing two conditions with 'OR' logical operator"
   ]
  },
  {
   "cell_type": "code",
   "execution_count": 15,
   "metadata": {},
   "outputs": [
    {
     "name": "stdout",
     "output_type": "stream",
     "text": [
      "Sorry, you cannot play this game. Try another one, please...!!!\n"
     ]
    }
   ],
   "source": [
    "# This program will focus, how to use two conditions (compound conditions) in decision statements (if-else statements)\n",
    "name = 'abcd'\n",
    "age = 13\n",
    "\n",
    "# here we'll test two conditions with 'OR' logical operator\n",
    "if name=='abc' or age==14:\n",
    "    print(\"Congratulations, you can play the game.\")\n",
    "else:\n",
    "    print(\"Sorry, you cannot play this game. Try another one, please...!!!\")\n",
    "    \n",
    "# we found that while using 'OR' in test condition, it is only 'TRUE' if both conditions are 'TRUE' \n",
    "# Otherwise, condition will falseb"
   ]
  }
 ],
 "metadata": {
  "kernelspec": {
   "display_name": "Python 3",
   "language": "python",
   "name": "python3"
  },
  "language_info": {
   "codemirror_mode": {
    "name": "ipython",
    "version": 3
   },
   "file_extension": ".py",
   "mimetype": "text/x-python",
   "name": "python",
   "nbconvert_exporter": "python",
   "pygments_lexer": "ipython3",
   "version": "3.7.3"
  }
 },
 "nbformat": 4,
 "nbformat_minor": 2
}

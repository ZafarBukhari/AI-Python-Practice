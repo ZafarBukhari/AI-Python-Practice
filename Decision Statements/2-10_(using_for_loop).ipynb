{
 "cells": [
  {
   "cell_type": "markdown",
   "metadata": {},
   "source": [
    "## Using For Loop"
   ]
  },
  {
   "cell_type": "code",
   "execution_count": 3,
   "metadata": {},
   "outputs": [
    {
     "name": "stdout",
     "output_type": "stream",
     "text": [
      "Hellow World....!!! : 0\n",
      "Hellow World....!!! : 1\n",
      "Hellow World....!!! : 2\n",
      "Hellow World....!!! : 3\n",
      "Hellow World....!!! : 4\n",
      "Hellow World....!!! : 5\n",
      "Hellow World....!!! : 6\n",
      "Hellow World....!!! : 7\n",
      "Hellow World....!!! : 8\n",
      "Hellow World....!!! : 9\n"
     ]
    }
   ],
   "source": [
    "# we used while loop to print this statement for 10 times\n",
    "\n",
    "# i = 0\n",
    "\n",
    "# while i<=10:\n",
    "#     print(\"Hello World...!!!\")\n",
    "#     i += 1\n",
    "\n",
    "# Now we will use for loop with range() function to iterate for 10 times\n",
    "\n",
    "for i in range(10):\n",
    "#     print(\"Hello World....!!!\")\n",
    "    print(f\"Hellow World....!!! : {i}\")"
   ]
  },
  {
   "cell_type": "code",
   "execution_count": 6,
   "metadata": {},
   "outputs": [
    {
     "name": "stdout",
     "output_type": "stream",
     "text": [
      "Hellow World....!!! : 1\n",
      "Hellow World....!!! : 2\n",
      "Hellow World....!!! : 3\n",
      "Hellow World....!!! : 4\n",
      "Hellow World....!!! : 5\n",
      "Hellow World....!!! : 6\n",
      "Hellow World....!!! : 7\n",
      "Hellow World....!!! : 8\n",
      "Hellow World....!!! : 9\n",
      "Hellow World....!!! : 10\n"
     ]
    }
   ],
   "source": [
    "# Now we will use for loop with range() function to iterate for 10 times but starting from 1 instead of 0\n",
    "\n",
    "for i in range(1,11):\n",
    "    print(f\"Hellow World....!!! : {i}\")"
   ]
  },
  {
   "cell_type": "code",
   "execution_count": 12,
   "metadata": {},
   "outputs": [
    {
     "name": "stdout",
     "output_type": "stream",
     "text": [
      "55\n"
     ]
    }
   ],
   "source": [
    "# using for loop in another way\n",
    "# this will add 1 + 2 + 3 + 4 + 5 + 6 + 7 + 8 + 9 + 10 = 55\n",
    "\n",
    "total = 0\n",
    "\n",
    "for i in range(1,11):   # we may use any variable name at the place of 'i'\n",
    "    total += i         # then, same variable name will be used here to replace variable 'i'\n",
    "\n",
    "print(total)"
   ]
  },
  {
   "cell_type": "code",
   "execution_count": 15,
   "metadata": {},
   "outputs": [
    {
     "name": "stdout",
     "output_type": "stream",
     "text": [
      "Please enter your no : 20\n",
      "210\n"
     ]
    }
   ],
   "source": [
    "# using for loop to iterate upto user's desired no\n",
    "\n",
    "n = int(input(\"Please enter your no : \"))\n",
    "\n",
    "total = 0\n",
    "\n",
    "for i in range(1,n+1):\n",
    "    total += i\n",
    "print(total)"
   ]
  },
  {
   "cell_type": "code",
   "execution_count": 20,
   "metadata": {},
   "outputs": [
    {
     "name": "stdout",
     "output_type": "stream",
     "text": [
      "Please enter a number : 2365\n",
      "16\n"
     ]
    }
   ],
   "source": [
    "# taking input of number having more than one digits and doing sum of those\n",
    "# e.g. 2365 ----->>> 2 + 3 + 6 + 5 = 16\n",
    "\n",
    "num = input(\"Please enter a number : \")\n",
    "\n",
    "total = 0\n",
    "\n",
    "for i in range(0,len(num)):\n",
    "    total += int(num[i])\n",
    "print(total)"
   ]
  },
  {
   "cell_type": "code",
   "execution_count": 27,
   "metadata": {},
   "outputs": [
    {
     "name": "stdout",
     "output_type": "stream",
     "text": [
      "Please enter your name : zafar Abbas\n",
      "z : 1\n",
      "a : 4\n",
      "f : 1\n",
      "r : 1\n",
      "  : 1\n",
      "b : 2\n",
      "s : 1\n"
     ]
    }
   ],
   "source": [
    "# counting repeatition of spellings\n",
    "\n",
    "name = input(\"Please enter your name : \")\n",
    "name = name.lower()\n",
    "\n",
    "temp_var = \"\"\n",
    "\n",
    "for i in range(0,len(name)):\n",
    "    if name[i] not in temp_var:\n",
    "        temp_var += name[i]\n",
    "        print(f\"{name[i]} : {name.count(name[i])}\")"
   ]
  }
 ],
 "metadata": {
  "kernelspec": {
   "display_name": "Python 3",
   "language": "python",
   "name": "python3"
  },
  "language_info": {
   "codemirror_mode": {
    "name": "ipython",
    "version": 3
   },
   "file_extension": ".py",
   "mimetype": "text/x-python",
   "name": "python",
   "nbconvert_exporter": "python",
   "pygments_lexer": "ipython3",
   "version": "3.7.3"
  }
 },
 "nbformat": 4,
 "nbformat_minor": 2
}

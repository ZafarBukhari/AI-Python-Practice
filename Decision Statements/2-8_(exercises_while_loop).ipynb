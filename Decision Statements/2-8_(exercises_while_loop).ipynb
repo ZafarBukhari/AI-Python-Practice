{
 "cells": [
  {
   "cell_type": "markdown",
   "metadata": {},
   "source": [
    "# Exercise-1"
   ]
  },
  {
   "cell_type": "markdown",
   "metadata": {},
   "source": [
    "### (a) Ask any number from user having more than one digits. Then add these numbers. For example input number is 234 then answer will be 2 + 3 + 4 = 9"
   ]
  },
  {
   "cell_type": "code",
   "execution_count": 1,
   "metadata": {},
   "outputs": [
    {
     "name": "stdout",
     "output_type": "stream",
     "text": [
      "Please enter a number with more than one digits: 7896\n",
      "30\n"
     ]
    }
   ],
   "source": [
    "number = input(\"Please enter a number with more than one digits: \")\n",
    "\n",
    "total = 0\n",
    "i = 0\n",
    "while i < len(number):\n",
    "    total += int(number[i])\n",
    "    i += 1\n",
    "print(total)\n",
    "    "
   ]
  },
  {
   "cell_type": "markdown",
   "metadata": {},
   "source": [
    "### (b) Ask any name from user and check count of every letter"
   ]
  },
  {
   "cell_type": "code",
   "execution_count": 8,
   "metadata": {},
   "outputs": [
    {
     "name": "stdout",
     "output_type": "stream",
     "text": [
      "Please enter your name: Ismail\n",
      "i : 2\n",
      "s : 1\n",
      "m : 1\n",
      "a : 1\n",
      "l : 1\n"
     ]
    }
   ],
   "source": [
    "name = input(\"Please enter your name: \")\n",
    "name = name.lower()\n",
    "\n",
    "temp_var = \"\"\n",
    "i = 0\n",
    "\n",
    "while i < len(name):\n",
    "    if name[i] not in temp_var:\n",
    "        temp_var += name[i]\n",
    "        print(f\"{name[i]} : {name.count(name[i])}\")\n",
    "    i += 1\n"
   ]
  }
 ],
 "metadata": {
  "kernelspec": {
   "display_name": "Python 3",
   "language": "python",
   "name": "python3"
  },
  "language_info": {
   "codemirror_mode": {
    "name": "ipython",
    "version": 3
   },
   "file_extension": ".py",
   "mimetype": "text/x-python",
   "name": "python",
   "nbconvert_exporter": "python",
   "pygments_lexer": "ipython3",
   "version": "3.7.3"
  }
 },
 "nbformat": 4,
 "nbformat_minor": 2
}

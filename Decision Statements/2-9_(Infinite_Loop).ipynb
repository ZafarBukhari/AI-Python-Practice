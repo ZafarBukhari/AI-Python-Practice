{
 "cells": [
  {
   "cell_type": "markdown",
   "metadata": {},
   "source": [
    "## How to use infinite loop"
   ]
  },
  {
   "cell_type": "code",
   "execution_count": 1,
   "metadata": {},
   "outputs": [
    {
     "name": "stdout",
     "output_type": "stream",
     "text": [
      "Hello World...!!!\n",
      "Hello World...!!!\n",
      "Hello World...!!!\n",
      "Hello World...!!!\n",
      "Hello World...!!!\n",
      "Hello World...!!!\n",
      "Hello World...!!!\n",
      "Hello World...!!!\n",
      "Hello World...!!!\n",
      "Hello World...!!!\n",
      "Hello World...!!!\n"
     ]
    }
   ],
   "source": [
    "# using infinite loop\n",
    "\n",
    "i = 0\n",
    "\n",
    "while i<=10:\n",
    "    print(\"Hello World...!!!\")\n",
    "    i += 1"
   ]
  },
  {
   "cell_type": "code",
   "execution_count": null,
   "metadata": {},
   "outputs": [],
   "source": [
    "# Using infinite loop in another fashion\n",
    "# please don't try this\n",
    "\n",
    "while True:\n",
    "    Print(\"Hello World...!!!\")"
   ]
  }
 ],
 "metadata": {
  "kernelspec": {
   "display_name": "Python 3",
   "language": "python",
   "name": "python3"
  },
  "language_info": {
   "codemirror_mode": {
    "name": "ipython",
    "version": 3
   },
   "file_extension": ".py",
   "mimetype": "text/x-python",
   "name": "python",
   "nbconvert_exporter": "python",
   "pygments_lexer": "ipython3",
   "version": "3.7.3"
  }
 },
 "nbformat": 4,
 "nbformat_minor": 2
}

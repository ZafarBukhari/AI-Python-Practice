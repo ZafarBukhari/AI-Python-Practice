{
 "cells": [
  {
   "cell_type": "markdown",
   "metadata": {},
   "source": [
    "# Use of If Statement"
   ]
  },
  {
   "cell_type": "code",
   "execution_count": 9,
   "metadata": {},
   "outputs": [
    {
     "name": "stdout",
     "output_type": "stream",
     "text": [
      "Please enter your age: 16\n",
      "You can play the game.\n"
     ]
    }
   ],
   "source": [
    "# execute the code if condition is true\n",
    "# suppose there is a game which can only play a user of having age more than 14 years\n",
    "\n",
    "age = int(input('Please enter your age: '))\n",
    "# age = int(age)\n",
    "\n",
    "if age >= 14:\n",
    "    print(\"You can play the game.\")    "
   ]
  },
  {
   "cell_type": "markdown",
   "metadata": {},
   "source": [
    "# Use of If-Else Statement"
   ]
  },
  {
   "cell_type": "code",
   "execution_count": 12,
   "metadata": {},
   "outputs": [
    {
     "name": "stdout",
     "output_type": "stream",
     "text": [
      "Please enter your age: 13\n",
      "Sorry, you can't play the game.\n"
     ]
    }
   ],
   "source": [
    "# execute the code if condition is true\n",
    "# suppose there is a game which can only play a user of having age more than 14 years\n",
    "# if user's age is < 14 Yrs it displays that you cannot play the game\n",
    "\n",
    "age = int(input('Please enter your age: '))\n",
    "# age = int(age)\n",
    "\n",
    "if age >= 14:\n",
    "    print(\"You can play the game.\")\n",
    "else:\n",
    "    print(\"Sorry, you can't play the game.\")"
   ]
  },
  {
   "cell_type": "markdown",
   "metadata": {},
   "source": [
    "# Use of If-Else if Statements"
   ]
  },
  {
   "cell_type": "code",
   "execution_count": 15,
   "metadata": {},
   "outputs": [
    {
     "name": "stdout",
     "output_type": "stream",
     "text": [
      "Please guess any no between 1 & 100: 29\n",
      "Sorry, your guessed number is higher than winning number. Please try again.\n"
     ]
    }
   ],
   "source": [
    "# guess number game\n",
    "\n",
    "guess_number = int(input(\"Please guess any no between 1 & 100: \"))\n",
    "\n",
    "winning_number = 27\n",
    "\n",
    "if guess_number == winning_number:\n",
    "    print(\"Hurrah! You win the game.\")\n",
    "else:\n",
    "    if guess_number > winning_number:\n",
    "        print(\"Sorry, your guessed number is higher than winning number. Please try again.\")\n",
    "    else:\n",
    "        print(\"Sorry, your guessed number is lower than winning number. Please try again.\")\n",
    "    "
   ]
  },
  {
   "cell_type": "markdown",
   "metadata": {},
   "source": [
    "### Please do practice....!!!"
   ]
  }
 ],
 "metadata": {
  "kernelspec": {
   "display_name": "Python 3",
   "language": "python",
   "name": "python3"
  },
  "language_info": {
   "codemirror_mode": {
    "name": "ipython",
    "version": 3
   },
   "file_extension": ".py",
   "mimetype": "text/x-python",
   "name": "python",
   "nbconvert_exporter": "python",
   "pygments_lexer": "ipython3",
   "version": "3.7.3"
  }
 },
 "nbformat": 4,
 "nbformat_minor": 2
}

{
 "cells": [
  {
   "cell_type": "markdown",
   "metadata": {},
   "source": [
    "### This will test different functions and its type"
   ]
  },
  {
   "cell_type": "code",
   "execution_count": 2,
   "metadata": {},
   "outputs": [
    {
     "name": "stdout",
     "output_type": "stream",
     "text": [
      "Enter number_one: 25\n",
      "Enter number-two: 30\n",
      "Enter number_three: 15\n",
      "<class 'str'>\n",
      "<class 'int'>\n",
      "<class 'float'>\n",
      "Number one is : 25\n",
      "45.0\n",
      "Sum of Number1, Number2 & Number3 = 70\n"
     ]
    }
   ],
   "source": [
    "# This will test diff functions and its type\n",
    "number_one = input(\"Enter number_one: \")\n",
    "number_two = int(input(\"Enter number-two: \"))\n",
    "number_three = float(input(\"Enter number_three: \"))\n",
    "print(type(number_one))\n",
    "print(type(number_two))\n",
    "print(type(number_three))\n",
    "print(\"Number one is : \"+ number_one)\n",
    "print(number_two + number_three)\n",
    "total=int(number_one)+number_two+int(number_three)\n",
    "print(\"Sum of Number1, Number2 & Number3 = \"+ str(total))"
   ]
  },
  {
   "cell_type": "markdown",
   "metadata": {},
   "source": [
    "### Practice use of diff numeric data types and verify its type"
   ]
  }
 ],
 "metadata": {
  "kernelspec": {
   "display_name": "Python 3",
   "language": "python",
   "name": "python3"
  },
  "language_info": {
   "codemirror_mode": {
    "name": "ipython",
    "version": 3
   },
   "file_extension": ".py",
   "mimetype": "text/x-python",
   "name": "python",
   "nbconvert_exporter": "python",
   "pygments_lexer": "ipython3",
   "version": "3.7.3"
  }
 },
 "nbformat": 4,
 "nbformat_minor": 2
}
